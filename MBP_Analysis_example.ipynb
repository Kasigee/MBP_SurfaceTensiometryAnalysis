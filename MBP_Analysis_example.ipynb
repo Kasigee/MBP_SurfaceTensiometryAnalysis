import MBP_Library as MBP

# %matplotlib inline #This is a magic command to allow the plots to be displayed in the notebook. Doesn't appear necessary anymore/in VS Code
#Clearing these lists (again!! - multiple clearances in the script, but don't seem to work) incase they get held by a previous run.
MBP.SectionTimeStart=[]
MBP.CUMULATIVE_RollingMAX=[]
MBP.CUMULATIVE_AvgMAX=[]
MBP.CUMULATIVE_AvgPeak=[]
# CUMULATIVE_PackedMAX=[] #This is not used yet, but is kept for future reference.
MBP.CUMULATIVE_RollingMAX_err=[]
MBP.CUMULATIVE_AvgMAX_err=[]
MBP.CUMULATIVE_AvgPeak_err=[]

#Initialise variables and arrays
MBP.Baseline=1.871 # Voltage of Pressure sensor in air. Note baseline weeks later gives: Average Peak: 1.86373232589543 +/- 0.000393771406842909 (STDEV) or 9.722750786244667e-06 (STERR) or 0.021128109512921687 % (STDEV%) OR 0.0005216817163684369 % (STERR%) -- Filename: BaselineToday_20221129_120031
MBP.Sensitivity=2555.47 #Pa/V  --> This is for Pressure sensor "2" - I'll find the actual code on the side to identify it properly. Connected currently to the low dead volume block. Calibrated via hydrostatic pressure measurements in triplicate.
MBP.EtOHST=0.0239 #N/m
MBP.solvent_density=789 #kg.m^-3 EtOH
# Baseline,Sensitivity,EtOHST,solvent_density=MBP.Initialise_variables(Baseline,Sensitivity,EtOHST,solvent_density)

Freq=111 #Hz
Time_between_bubbles=5 #sec
split=300 #How much to split the data. Eg. this gives 300 unique sections of data for the 5hr test.
FileName='TimeAnalysingTest_EtOH_0.5s_111Hz_RightAtSurface_20230308_140237'
MBP.plot_pressure(FileName,Freq,split,Time_between_bubbles)
# MBP.peak_analysis(Time_between_bubbles,Freq,split,FileName)
# MBP.CalculateHydrostaticPressure(997, 0.01)

# MBP.convert_STtoP(0.0000265, 0.07275)
